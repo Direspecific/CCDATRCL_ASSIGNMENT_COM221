{
 "cells": [
  {
   "cell_type": "code",
   "execution_count": null,
   "metadata": {},
   "outputs": [],
   "source": [
    "def create_stack():\n",
    "    stack = []\n",
    "    return stack"
   ]
  },
  {
   "cell_type": "code",
   "execution_count": null,
   "metadata": {},
   "outputs": [],
   "source": [
    "def print_stack(stack):\n",
    "\n",
    "    if (check_empty(stack)):\n",
    "            return \"stack is empty\"\n",
    "    \n",
    "    # Create a copy of the stack and reverse the elements\n",
    "    tempStack = stack.copy()\n",
    "    tempStack.reverse()\n",
    "\n",
    "    # Print all elements using a loop\n",
    "    for i in tempStack:\n",
    "        print(i)\n",
    "\n",
    "    # Delete the copy to free up memory\n",
    "    del tempStack\n",
    "\n",
    "# Creating an empty stack\n",
    "def check_empty(stack):\n",
    "    return len(stack) == 0\n",
    "\n",
    "\n",
    "# Adding items into the stack\n",
    "def push(stack, item):\n",
    "    stack.append(item)\n",
    "    print(\"pushed item: \" + item)\n",
    "\n",
    "\n",
    "# Removing an element from the stack\n",
    "def pop(stack):\n",
    "    if (check_empty(stack)):\n",
    "        return \"stack is empty\"\n",
    "    \n",
    "    return stack.pop()\n",
    "    \n",
    "def peek(stack):\n",
    "\n",
    "    # Use negative indexing to display the last element of the list\n",
    "    print(stack[-1])"
   ]
  },
  {
   "cell_type": "code",
   "execution_count": null,
   "metadata": {},
   "outputs": [],
   "source": [
    "my_stack = create_stack()\n",
    "\n",
    "\n",
    "push(my_stack, \"Bun\")\n",
    "push(my_stack, \"Tomato\")\n",
    "push(my_stack, \"Lettuce\")\n",
    "push(my_stack, \"Cheese\")\n",
    "push(my_stack, \"Patty\")\n",
    "push(my_stack, \"Bun\")\n",
    "\n",
    "my_stack.reverse()  \n",
    "\n",
    "print_stack(my_stack)"
   ]
  },
  {
   "cell_type": "code",
   "execution_count": null,
   "metadata": {},
   "outputs": [
    {
     "ename": "",
     "evalue": "",
     "output_type": "error",
     "traceback": [
      "\u001b[1;31mRunning cells with 'c:\\Users\\Andrew Laurence\\AppData\\Local\\Microsoft\\WindowsApps\\python3.11.exe' requires the ipykernel package.\n",
      "\u001b[1;31mRun the following command to install 'ipykernel' into the Python environment. \n",
      "\u001b[1;31mCommand: '\"c:/Users/Andrew Laurence/AppData/Local/Microsoft/WindowsApps/python3.11.exe\" -m pip install ipykernel -U --user --force-reinstall'"
     ]
    }
   ],
   "source": [
    "name_stack = ['A', 'N', 'D', 'R', 'E', 'W']\n",
    "reversed_stack = []\n",
    "\n",
    "while name_stack:\n",
    "    push(reversed_stack, name_stack.pop())\n",
    "\n",
    "print(reversed_stack)"
   ]
  },
  {
   "cell_type": "code",
   "execution_count": null,
   "metadata": {},
   "outputs": [],
   "source": [
    "def push(stack, element):\n",
    "    stack.append(element)\n",
    "\n",
    "numbers = [1, 2, 3, 4, 5, 6, 7, 8, 9, 10]\n",
    "new_stack = []\n",
    "\n",
    "while numbers:\n",
    "    num = numbers.pop()\n",
    "    if num % 2 == 0:\n",
    "        push(new_stack, num)\n",
    "\n",
    "new_stack.reverse()\n",
    "print(new_stack)"
   ]
  },
  {
   "cell_type": "code",
   "execution_count": null,
   "metadata": {},
   "outputs": [],
   "source": [
    "my_stack =  ['E', 'L', 'I', 'Z', 'E', 'R']\n",
    "empty_stack = []\n",
    "while my_stack:\n",
    "    vowel = my_stack.pop()\n",
    "    if vowel in 'AEIOU':\n",
    "        push(empty_stack, vowel)\n",
    "\n",
    "empty_stack.reverse()\n",
    "print(empty_stack)"
   ]
  },
  {
   "cell_type": "code",
   "execution_count": null,
   "metadata": {},
   "outputs": [],
   "source": [
    "number_stack = [3, 1, 2]\n",
    "sorted_stack = []\n",
    "\n",
    "while number_stack:\n",
    "    temp = number_stack.pop()\n",
    "        \n",
    "    while sorted_stack and sorted_stack[-1] > temp:\n",
    "        push(number_stack, sorted_stack.pop())\n",
    "        \n",
    "    push(sorted_stack, temp)\n",
    "    \n",
    "while sorted_stack:\n",
    "        push(number_stack, sorted_stack.pop())\n",
    "        \n",
    "while number_stack:\n",
    "    push(sorted_stack, number_stack.pop())\n",
    "\n",
    "print(sorted_stack)"
   ]
  }
 ],
 "metadata": {
  "kernelspec": {
   "display_name": "Python 3",
   "language": "python",
   "name": "python3"
  },
  "language_info": {
   "name": "python",
   "version": "3.11.5"
  },
  "orig_nbformat": 4
 },
 "nbformat": 4,
 "nbformat_minor": 2
}
