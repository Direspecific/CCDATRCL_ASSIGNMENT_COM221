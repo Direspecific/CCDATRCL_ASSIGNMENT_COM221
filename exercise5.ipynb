{
  "cells": [
    {
      "cell_type": "markdown",
      "metadata": {
        "id": "R5RsjGwqCuEl"
      },
      "source": [
        "# Exercise 5"
      ]
    },
    {
      "cell_type": "markdown",
      "metadata": {
        "id": "PfRD9S_BCuEs"
      },
      "source": [
        "#### 1. Create a dictionary of your 10 favorite songs."
      ]
    },
    {
      "cell_type": "markdown",
      "metadata": {
        "id": "M7ojYWUFCuEt"
      },
      "source": [
        "Example:\n",
        "\n",
        "|KEY|VALUE|\n",
        "|---|---|\n",
        "|001|My Love|\n",
        "|002|Like a rose|"
      ]
    },
    {
      "cell_type": "code",
      "execution_count": 12,
      "metadata": {
        "id": "pRvVGhvSCuEu"
      },
      "outputs": [],
      "source": [
        "mydictionary = {\n",
        "  \"001\": \"Lucid Dreams\",\n",
        "  \"002\": \"Come thru\",\n",
        "  \"003\": \"Idol\",\n",
        "  \"004\": \"Dramaturgy\",\n",
        "  \"005\": \"Mr. Jones\",\n",
        "  \"006\": \"Nobela\",\n",
        "  \"007\": \"Beer\",\n",
        "  \"008\": \"Without you\",\n",
        "  \"009\": \"Unforgiven\",\n",
        "  \"010\": \"super shy\"\n",
        "}"
      ]
    },
    {
      "cell_type": "markdown",
      "metadata": {
        "id": "lnGt9hTACuEw"
      },
      "source": [
        "#### 2. Loop through the dictionary by its **key** and **value**"
      ]
    },
    {
      "cell_type": "code",
      "execution_count": 13,
      "metadata": {
        "colab": {
          "base_uri": "https://localhost:8080/"
        },
        "id": "QtTlqQjhCuEx",
        "outputId": "92edecd9-b8e1-4e6e-b4b3-6afb33960c47"
      },
      "outputs": [
        {
          "output_type": "stream",
          "name": "stdout",
          "text": [
            "{'001': 'Lucid Dreams', '002': 'Come thru', '003': 'Idol', '004': 'Dramaturgy', '005': 'Mr. Jones', '006': 'Nobela', '007': 'Beer', '008': 'Without you', '009': 'Unforgiven', '010': 'super shy'}\n"
          ]
        }
      ],
      "source": [
        "print(mydictionary)"
      ]
    },
    {
      "cell_type": "markdown",
      "metadata": {
        "id": "s-ymi1y9CuEx"
      },
      "source": [
        "#### 3. Add one additional song"
      ]
    },
    {
      "cell_type": "code",
      "execution_count": 14,
      "metadata": {
        "colab": {
          "base_uri": "https://localhost:8080/"
        },
        "id": "C4Ks3ndGCuEy",
        "outputId": "b557f461-3a49-445d-a16f-1d24d4d2729b"
      },
      "outputs": [
        {
          "output_type": "execute_result",
          "data": {
            "text/plain": [
              "{'001': 'Lucid Dreams',\n",
              " '002': 'Come thru',\n",
              " '003': 'Idol',\n",
              " '004': 'Dramaturgy',\n",
              " '005': 'Mr. Jones',\n",
              " '006': 'Nobela',\n",
              " '007': 'Beer',\n",
              " '008': 'Without you',\n",
              " '009': 'Unforgiven',\n",
              " '010': 'super shy',\n",
              " '011': 'Useewa'}"
            ]
          },
          "metadata": {},
          "execution_count": 14
        }
      ],
      "source": [
        "mydictionary[\"011\"] = \"Useewa\"\n",
        "mydictionary"
      ]
    },
    {
      "cell_type": "markdown",
      "metadata": {
        "id": "JkKRUmPeCuEz"
      },
      "source": [
        "#### 4. Remove one song"
      ]
    },
    {
      "cell_type": "code",
      "execution_count": 15,
      "metadata": {
        "colab": {
          "base_uri": "https://localhost:8080/"
        },
        "id": "kjfpZ-MnCuEz",
        "outputId": "c64bd61d-ae4f-4e03-adfe-bea4ad908b39"
      },
      "outputs": [
        {
          "output_type": "execute_result",
          "data": {
            "text/plain": [
              "{'001': 'Lucid Dreams',\n",
              " '002': 'Come thru',\n",
              " '003': 'Idol',\n",
              " '004': 'Dramaturgy',\n",
              " '005': 'Mr. Jones',\n",
              " '006': 'Nobela',\n",
              " '007': 'Beer',\n",
              " '008': 'Without you',\n",
              " '009': 'Unforgiven',\n",
              " '010': 'super shy'}"
            ]
          },
          "metadata": {},
          "execution_count": 15
        }
      ],
      "source": [
        "mydictionary.pop(\"011\")\n",
        "mydictionary"
      ]
    },
    {
      "cell_type": "markdown",
      "metadata": {
        "id": "a6th2DcwCuE0"
      },
      "source": [
        "#### 5. Create a nested dictionary of your 10 favorite songs with 5 genres. Display all of the items of the nested dictionary\n",
        "\n",
        "- Each nested dictionary's key should be the genre of the song\n",
        "- Put each song in their respective genre"
      ]
    },
    {
      "cell_type": "markdown",
      "metadata": {
        "id": "DReVqVJoCuE0"
      },
      "source": [
        "Example:\n",
        "\n",
        "\n",
        "|KEY|VALUE|\n",
        "|---|---|\n",
        "|Pop|{001, Baby}|\n",
        "|Rock|{001, Enter Sandman}|"
      ]
    },
    {
      "cell_type": "code",
      "execution_count": 16,
      "metadata": {
        "id": "piCzhhdbCuE1"
      },
      "outputs": [],
      "source": [
        "mydictionary = {\n",
        "  \"Kpop\" : {\n",
        "    \"001\" : \"Super shy\",\n",
        "    \"002\" : \"Unforgiven\"\n",
        "  },\n",
        "  \"Jpop\" : {\n",
        "    \"001\" : \"IDOL\",\n",
        "    \"002\" : \"Dramaturgy\"\n",
        "  },\n",
        "  \"OPM\" : {\n",
        "    \"001\" : \"Beer\",\n",
        "    \"002\" : \"Nobela\"\n",
        "  },\n",
        "  \"Hiphop\" : {\n",
        "    \"001\" : \"Lucid Dreams\",\n",
        "    \"002\" : \"Come thru\"\n",
        "  },\n",
        "  \"90's\" : {\n",
        "    \"001\" : \"Mr. Jones\",\n",
        "    \"002\" : \"Without you\"\n",
        "  }\n",
        "}"
      ]
    },
    {
      "cell_type": "markdown",
      "metadata": {
        "id": "txdp5cRmCuE1"
      },
      "source": [
        "#### 6. Print the first song of the first genre"
      ]
    },
    {
      "cell_type": "code",
      "execution_count": 17,
      "metadata": {
        "colab": {
          "base_uri": "https://localhost:8080/"
        },
        "id": "TV63gwW2CuE1",
        "outputId": "98b9f68b-527e-4694-8525-de9c64446997"
      },
      "outputs": [
        {
          "output_type": "stream",
          "name": "stdout",
          "text": [
            "Super shy\n"
          ]
        }
      ],
      "source": [
        "print(mydictionary[\"Kpop\"][\"001\"])"
      ]
    },
    {
      "cell_type": "markdown",
      "metadata": {
        "id": "sZNtCWwXCuE1"
      },
      "source": [
        "#### 7. Print the first song of the last genre"
      ]
    },
    {
      "cell_type": "code",
      "execution_count": 20,
      "metadata": {
        "colab": {
          "base_uri": "https://localhost:8080/"
        },
        "id": "6Nzw0H6pCuE2",
        "outputId": "254f1fc1-4b03-4d07-d704-b31ad4d0b174"
      },
      "outputs": [
        {
          "output_type": "stream",
          "name": "stdout",
          "text": [
            "Mr. Jones\n"
          ]
        }
      ],
      "source": [
        "print(mydictionary[\"90's\"][\"001\"])"
      ]
    }
  ],
  "metadata": {
    "kernelspec": {
      "display_name": "Python 3",
      "language": "python",
      "name": "python3"
    },
    "language_info": {
      "codemirror_mode": {
        "name": "ipython",
        "version": 3
      },
      "file_extension": ".py",
      "mimetype": "text/x-python",
      "name": "python",
      "nbconvert_exporter": "python",
      "pygments_lexer": "ipython3",
      "version": "3.11.4"
    },
    "orig_nbformat": 4,
    "colab": {
      "provenance": []
    }
  },
  "nbformat": 4,
  "nbformat_minor": 0
}
